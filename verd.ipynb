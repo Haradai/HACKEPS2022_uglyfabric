{
 "cells": [
  {
   "cell_type": "code",
   "execution_count": 126,
   "metadata": {},
   "outputs": [],
   "source": [
    "import pandas as pd\n",
    "from os.path import exists"
   ]
  },
  {
   "cell_type": "code",
   "execution_count": 127,
   "metadata": {},
   "outputs": [],
   "source": [
    "df = pd.read_csv(\"DATASET/B/train.csv\")"
   ]
  },
  {
   "cell_type": "code",
   "execution_count": 128,
   "metadata": {},
   "outputs": [],
   "source": [
    "for i, row in df.iterrows():\n",
    "    if exists(\"DATASET/B/B/data/\"+row[\"image_path\"]) == False:\n",
    "        df = df.drop(i)\n",
    "    "
   ]
  },
  {
   "cell_type": "code",
   "execution_count": 129,
   "metadata": {},
   "outputs": [
    {
     "data": {
      "text/plain": [
       "0        8140\n",
       "1       11389\n",
       "3        7981\n",
       "8         173\n",
       "10       7942\n",
       "        ...  \n",
       "9447     4008\n",
       "9448     6401\n",
       "9449    12515\n",
       "9450    11683\n",
       "9456     9697\n",
       "Name: Unnamed: 0, Length: 5282, dtype: int64"
      ]
     },
     "execution_count": 129,
     "metadata": {},
     "output_type": "execute_result"
    }
   ],
   "source": [
    "df.reset_index\n",
    "df.pop(\"Unnamed: 0\")"
   ]
  },
  {
   "cell_type": "code",
   "execution_count": 130,
   "metadata": {},
   "outputs": [
    {
     "data": {
      "text/html": [
       "<div>\n",
       "<style scoped>\n",
       "    .dataframe tbody tr th:only-of-type {\n",
       "        vertical-align: middle;\n",
       "    }\n",
       "\n",
       "    .dataframe tbody tr th {\n",
       "        vertical-align: top;\n",
       "    }\n",
       "\n",
       "    .dataframe thead th {\n",
       "        text-align: right;\n",
       "    }\n",
       "</style>\n",
       "<table border=\"1\" class=\"dataframe\">\n",
       "  <thead>\n",
       "    <tr style=\"text-align: right;\">\n",
       "      <th></th>\n",
       "      <th>image_path</th>\n",
       "      <th>Taca oli</th>\n",
       "      <th>Carrera</th>\n",
       "      <th>Agujero</th>\n",
       "      <th>Hilo fino horizontal2</th>\n",
       "      <th>Tensión horizontal</th>\n",
       "      <th>Barrado</th>\n",
       "      <th>Borrissol</th>\n",
       "      <th>Hilo fino horizontal</th>\n",
       "      <th>Punto escapado</th>\n",
       "    </tr>\n",
       "  </thead>\n",
       "  <tbody>\n",
       "    <tr>\n",
       "      <th>0</th>\n",
       "      <td>4aaf06a9-frame0-00-08.95.jpg</td>\n",
       "      <td>0</td>\n",
       "      <td>0</td>\n",
       "      <td>0</td>\n",
       "      <td>1</td>\n",
       "      <td>0</td>\n",
       "      <td>0</td>\n",
       "      <td>0</td>\n",
       "      <td>0</td>\n",
       "      <td>0</td>\n",
       "    </tr>\n",
       "    <tr>\n",
       "      <th>1</th>\n",
       "      <td>19c8888a-frame0-00-15.68.jpg</td>\n",
       "      <td>0</td>\n",
       "      <td>0</td>\n",
       "      <td>0</td>\n",
       "      <td>0</td>\n",
       "      <td>0</td>\n",
       "      <td>0</td>\n",
       "      <td>0</td>\n",
       "      <td>0</td>\n",
       "      <td>0</td>\n",
       "    </tr>\n",
       "    <tr>\n",
       "      <th>3</th>\n",
       "      <td>5e93a55a-frame0-00-12.03.jpg</td>\n",
       "      <td>0</td>\n",
       "      <td>0</td>\n",
       "      <td>0</td>\n",
       "      <td>1</td>\n",
       "      <td>0</td>\n",
       "      <td>0</td>\n",
       "      <td>0</td>\n",
       "      <td>0</td>\n",
       "      <td>0</td>\n",
       "    </tr>\n",
       "    <tr>\n",
       "      <th>8</th>\n",
       "      <td>47b8fa6d-frame0-00-20.79.jpg</td>\n",
       "      <td>0</td>\n",
       "      <td>0</td>\n",
       "      <td>0</td>\n",
       "      <td>0</td>\n",
       "      <td>0</td>\n",
       "      <td>0</td>\n",
       "      <td>0</td>\n",
       "      <td>0</td>\n",
       "      <td>0</td>\n",
       "    </tr>\n",
       "    <tr>\n",
       "      <th>10</th>\n",
       "      <td>6787b1aa-frame0-00-13.24.jpg</td>\n",
       "      <td>0</td>\n",
       "      <td>0</td>\n",
       "      <td>0</td>\n",
       "      <td>1</td>\n",
       "      <td>0</td>\n",
       "      <td>0</td>\n",
       "      <td>0</td>\n",
       "      <td>0</td>\n",
       "      <td>0</td>\n",
       "    </tr>\n",
       "    <tr>\n",
       "      <th>...</th>\n",
       "      <td>...</td>\n",
       "      <td>...</td>\n",
       "      <td>...</td>\n",
       "      <td>...</td>\n",
       "      <td>...</td>\n",
       "      <td>...</td>\n",
       "      <td>...</td>\n",
       "      <td>...</td>\n",
       "      <td>...</td>\n",
       "      <td>...</td>\n",
       "    </tr>\n",
       "    <tr>\n",
       "      <th>9447</th>\n",
       "      <td>465d9bce-frame0-00-32.28.jpg</td>\n",
       "      <td>0</td>\n",
       "      <td>0</td>\n",
       "      <td>0</td>\n",
       "      <td>0</td>\n",
       "      <td>0</td>\n",
       "      <td>0</td>\n",
       "      <td>0</td>\n",
       "      <td>0</td>\n",
       "      <td>0</td>\n",
       "    </tr>\n",
       "    <tr>\n",
       "      <th>9448</th>\n",
       "      <td>2efd8409-frame0-00-11.38.jpg</td>\n",
       "      <td>0</td>\n",
       "      <td>0</td>\n",
       "      <td>0</td>\n",
       "      <td>0</td>\n",
       "      <td>0</td>\n",
       "      <td>0</td>\n",
       "      <td>0</td>\n",
       "      <td>1</td>\n",
       "      <td>0</td>\n",
       "    </tr>\n",
       "    <tr>\n",
       "      <th>9449</th>\n",
       "      <td>6bc3fdda-frame0-00-01.45.jpg</td>\n",
       "      <td>0</td>\n",
       "      <td>0</td>\n",
       "      <td>0</td>\n",
       "      <td>0</td>\n",
       "      <td>0</td>\n",
       "      <td>0</td>\n",
       "      <td>0</td>\n",
       "      <td>0</td>\n",
       "      <td>0</td>\n",
       "    </tr>\n",
       "    <tr>\n",
       "      <th>9450</th>\n",
       "      <td>6efef5e7-frame0-00-09.95.jpg</td>\n",
       "      <td>0</td>\n",
       "      <td>0</td>\n",
       "      <td>0</td>\n",
       "      <td>0</td>\n",
       "      <td>0</td>\n",
       "      <td>0</td>\n",
       "      <td>0</td>\n",
       "      <td>0</td>\n",
       "      <td>0</td>\n",
       "    </tr>\n",
       "    <tr>\n",
       "      <th>9456</th>\n",
       "      <td>0724da11-frame0-00-05.67.jpg</td>\n",
       "      <td>0</td>\n",
       "      <td>0</td>\n",
       "      <td>0</td>\n",
       "      <td>0</td>\n",
       "      <td>0</td>\n",
       "      <td>0</td>\n",
       "      <td>0</td>\n",
       "      <td>1</td>\n",
       "      <td>0</td>\n",
       "    </tr>\n",
       "  </tbody>\n",
       "</table>\n",
       "<p>5282 rows × 10 columns</p>\n",
       "</div>"
      ],
      "text/plain": [
       "                        image_path  Taca oli  Carrera  Agujero  \\\n",
       "0     4aaf06a9-frame0-00-08.95.jpg         0        0        0   \n",
       "1     19c8888a-frame0-00-15.68.jpg         0        0        0   \n",
       "3     5e93a55a-frame0-00-12.03.jpg         0        0        0   \n",
       "8     47b8fa6d-frame0-00-20.79.jpg         0        0        0   \n",
       "10    6787b1aa-frame0-00-13.24.jpg         0        0        0   \n",
       "...                            ...       ...      ...      ...   \n",
       "9447  465d9bce-frame0-00-32.28.jpg         0        0        0   \n",
       "9448  2efd8409-frame0-00-11.38.jpg         0        0        0   \n",
       "9449  6bc3fdda-frame0-00-01.45.jpg         0        0        0   \n",
       "9450  6efef5e7-frame0-00-09.95.jpg         0        0        0   \n",
       "9456  0724da11-frame0-00-05.67.jpg         0        0        0   \n",
       "\n",
       "      Hilo fino horizontal2  Tensión horizontal  Barrado  Borrissol  \\\n",
       "0                         1                   0        0          0   \n",
       "1                         0                   0        0          0   \n",
       "3                         1                   0        0          0   \n",
       "8                         0                   0        0          0   \n",
       "10                        1                   0        0          0   \n",
       "...                     ...                 ...      ...        ...   \n",
       "9447                      0                   0        0          0   \n",
       "9448                      0                   0        0          0   \n",
       "9449                      0                   0        0          0   \n",
       "9450                      0                   0        0          0   \n",
       "9456                      0                   0        0          0   \n",
       "\n",
       "      Hilo fino horizontal  Punto escapado  \n",
       "0                        0               0  \n",
       "1                        0               0  \n",
       "3                        0               0  \n",
       "8                        0               0  \n",
       "10                       0               0  \n",
       "...                    ...             ...  \n",
       "9447                     0               0  \n",
       "9448                     1               0  \n",
       "9449                     0               0  \n",
       "9450                     0               0  \n",
       "9456                     1               0  \n",
       "\n",
       "[5282 rows x 10 columns]"
      ]
     },
     "execution_count": 130,
     "metadata": {},
     "output_type": "execute_result"
    }
   ],
   "source": [
    "df"
   ]
  },
  {
   "cell_type": "code",
   "execution_count": 131,
   "metadata": {},
   "outputs": [],
   "source": [
    "df.to_csv(\"verd_df_clean.csv\")"
   ]
  },
  {
   "cell_type": "markdown",
   "metadata": {},
   "source": [
    "---"
   ]
  },
  {
   "cell_type": "code",
   "execution_count": 364,
   "metadata": {},
   "outputs": [],
   "source": [
    "from sklearn.model_selection import train_test_split\n",
    "df_tr, df_tst, y_train, y_test = train_test_split(df, df, test_size=0.33, random_state=42)"
   ]
  },
  {
   "cell_type": "code",
   "execution_count": 132,
   "metadata": {},
   "outputs": [],
   "source": [
    "import tensorflow as tf\n",
    "import cv2\n",
    "from tensorflow import keras\n",
    "import numpy as np"
   ]
  },
  {
   "cell_type": "code",
   "execution_count": 356,
   "metadata": {},
   "outputs": [],
   "source": [
    "def create_dataset(df):\n",
    "    def apply():\n",
    "        for i, row in df.iterrows():\n",
    "            img = cv2.cvtColor(cv2.imread(\"DATASET/B/B/data/\"+row[\"image_path\"]), cv2.COLOR_BGR2GRAY)\n",
    "            img = cv2.resize(img, (224,224)) \n",
    "            yield (img.reshape((1, 224, 224,1)) ,np.array(row)[1:].reshape(1,9))\n",
    "            break\n",
    "    return apply"
   ]
  },
  {
   "cell_type": "code",
   "execution_count": 297,
   "metadata": {},
   "outputs": [
    {
     "data": {
      "text/plain": [
       "(224, 224, 1)"
      ]
     },
     "execution_count": 297,
     "metadata": {},
     "output_type": "execute_result"
    }
   ],
   "source": [
    "next(create_dataset(df)())[0].shape"
   ]
  },
  {
   "cell_type": "code",
   "execution_count": 365,
   "metadata": {},
   "outputs": [],
   "source": [
    "tf_df = tf.data.Dataset.from_generator(create_dataset(df_tr),output_signature=(\n",
    "         tf.TensorSpec(shape=(None, 224,224, 1), dtype=tf.float32),\n",
    "         tf.TensorSpec(shape=(None, 9,), dtype=tf.float32)))"
   ]
  },
  {
   "cell_type": "code",
   "execution_count": 366,
   "metadata": {},
   "outputs": [
    {
     "data": {
      "image/png": "[encoded data removed]",
      "text/plain": [
       "<IPython.core.display.Image object>"
      ]
     },
     "execution_count": 366,
     "metadata": {},
     "output_type": "execute_result"
    }
   ],
   "source": [
    "model = keras.Sequential([\n",
    "    keras.layers.Conv2D(64, 3, activation='relu', padding=\"same\", input_shape=(224, 224,1)),\n",
    "    keras.layers.Conv2D(32, 3, activation='relu',padding=\"same\"),\n",
    "    keras.layers.Flatten(),\n",
    "    keras.layers.Dense(9, activation='softmax')\n",
    "])\n",
    " \n",
    "# Compiling the model\n",
    "model.compile(optimizer='adam',\n",
    "              loss=tf.keras.losses.Poisson(),\n",
    "              metrics=['accuracy'])\n",
    "\n",
    "# Fitting the model with data\n",
    "tf.keras.utils.plot_model(\n",
    "    model,\n",
    "    to_file=\"model.png\",\n",
    "    show_shapes=True,\n",
    "    show_dtype=True,\n",
    "    show_layer_names=True,\n",
    "    rankdir=\"TB\",\n",
    "    expand_nested=False,\n",
    "    dpi=96,\n",
    "    layer_range=None,\n",
    "    show_layer_activations=False,\n",
    ")"
   ]
  },
  {
   "cell_type": "code",
   "execution_count": 342,
   "metadata": {},
   "outputs": [
    {
     "name": "stdout",
     "output_type": "stream",
     "text": [
      "(224, 224, 1)\n"
     ]
    },
    {
     "data": {
      "text/plain": [
       "<tf.Tensor: shape=(1, 9), dtype=float32, numpy=\n",
       "array([[1.0377263e-05, 3.1782611e-04, 1.1853952e-03, 8.9943284e-01,\n",
       "        9.0439309e-04, 2.7240732e-09, 7.9022042e-02, 2.8470342e-05,\n",
       "        1.9098552e-02]], dtype=float32)>"
      ]
     },
     "execution_count": 342,
     "metadata": {},
     "output_type": "execute_result"
    }
   ],
   "source": [
    "img, label = next(create_dataset(df_tr)())\n",
    "print(img.shape)\n",
    "model(img.reshape(1, 224, 224, 1))"
   ]
  },
  {
   "cell_type": "code",
   "execution_count": 367,
   "metadata": {},
   "outputs": [
    {
     "name": "stdout",
     "output_type": "stream",
     "text": [
      "Epoch 1/5\n",
      "1/1 [==============================] - 0s 415ms/step - loss: 2.4393 - accuracy: 0.0000e+00\n",
      "Epoch 2/5\n",
      "1/1 [==============================] - 0s 106ms/step - loss: 0.7301 - accuracy: 0.0000e+00\n",
      "Epoch 3/5\n",
      "1/1 [==============================] - 0s 90ms/step - loss: 1.9020 - accuracy: 1.0000\n",
      "Epoch 4/5\n",
      "1/1 [==============================] - 0s 85ms/step - loss: 1.9020 - accuracy: 1.0000\n",
      "Epoch 5/5\n",
      "1/1 [==============================] - 0s 100ms/step - loss: 1.9020 - accuracy: 1.0000\n"
     ]
    },
    {
     "data": {
      "text/plain": [
       "<keras.callbacks.History at 0x169f580a0>"
      ]
     },
     "execution_count": 367,
     "metadata": {},
     "output_type": "execute_result"
    }
   ],
   "source": [
    "model.fit(tf_df, epochs=5,batch_size=1)"
   ]
  },
  {
   "cell_type": "code",
   "execution_count": 371,
   "metadata": {},
   "outputs": [],
   "source": [
    "tf_df_tst = tf.data.Dataset.from_generator(create_dataset(df_tst),output_signature=(\n",
    "         tf.TensorSpec(shape=(None, 224,224, 1), dtype=tf.float32),\n",
    "         tf.TensorSpec(shape=(None, 9,), dtype=tf.float32)))"
   ]
  },
  {
   "cell_type": "code",
   "execution_count": 372,
   "metadata": {},
   "outputs": [
    {
     "name": "stdout",
     "output_type": "stream",
     "text": [
      "1/1 [==============================] - 0s 182ms/step - loss: 0.1111 - accuracy: 0.0000e+00\n"
     ]
    },
    {
     "data": {
      "text/plain": [
       "[0.1111111119389534, 0.0]"
      ]
     },
     "execution_count": 372,
     "metadata": {},
     "output_type": "execute_result"
    }
   ],
   "source": [
    "model.evaluate(tf_df_tst)"
   ]
  },
  {
   "cell_type": "markdown",
   "metadata": {},
   "source": [
    "HAVE SOMETHING BUT 0 ACURACY! XD"
   ]
  }
 ],
 "metadata": {
  "kernelspec": {
   "display_name": "Python 3.10.6 ('chaos')",
   "language": "python",
   "name": "python3"
  },
  "language_info": {
   "codemirror_mode": {
    "name": "ipython",
    "version": 3
   },
   "file_extension": ".py",
   "mimetype": "text/x-python",
   "name": "python",
   "nbconvert_exporter": "python",
   "pygments_lexer": "ipython3",
   "version": "3.10.6"
  },
  "orig_nbformat": 4,
  "vscode": {
   "interpreter": {
    "hash": "c7ae596a0e351a64bdee8401d4598b089ee21c4ae0cc6b869fec54b3f2f67ab8"
   }
  }
 },
 "nbformat": 4,
 "nbformat_minor": 2
}
