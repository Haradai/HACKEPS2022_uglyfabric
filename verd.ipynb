{
 "cells": [
  {
   "cell_type": "code",
   "execution_count": 126,
   "metadata": {},
   "outputs": [],
   "source": [
    "import pandas as pd\n",
    "from os.path import exists"
   ]
  },
  {
   "cell_type": "code",
   "execution_count": 127,
   "metadata": {},
   "outputs": [],
   "source": [
    "df = pd.read_csv(\"DATASET/B/train.csv\")"
   ]
  },
  {
   "cell_type": "code",
   "execution_count": 128,
   "metadata": {},
   "outputs": [],
   "source": [
    "for i, row in df.iterrows():\n",
    "    if exists(\"DATASET/B/B/data/\"+row[\"image_path\"]) == False:\n",
    "        df = df.drop(i)\n",
    "    "
   ]
  },
  {
   "cell_type": "code",
   "execution_count": 129,
   "metadata": {},
   "outputs": [
    {
     "data": {
      "text/plain": [
       "0        8140\n",
       "1       11389\n",
       "3        7981\n",
       "8         173\n",
       "10       7942\n",
       "        ...  \n",
       "9447     4008\n",
       "9448     6401\n",
       "9449    12515\n",
       "9450    11683\n",
       "9456     9697\n",
       "Name: Unnamed: 0, Length: 5282, dtype: int64"
      ]
     },
     "execution_count": 129,
     "metadata": {},
     "output_type": "execute_result"
    }
   ],
   "source": [
    "df.reset_index\n",
    "df.pop(\"Unnamed: 0\")"
   ]
  },
  {
   "cell_type": "code",
   "execution_count": 130,
   "metadata": {},
   "outputs": [
    {
     "data": {
      "text/html": [
       "<div>\n",
       "<style scoped>\n",
       "    .dataframe tbody tr th:only-of-type {\n",
       "        vertical-align: middle;\n",
       "    }\n",
       "\n",
       "    .dataframe tbody tr th {\n",
       "        vertical-align: top;\n",
       "    }\n",
       "\n",
       "    .dataframe thead th {\n",
       "        text-align: right;\n",
       "    }\n",
       "</style>\n",
       "<table border=\"1\" class=\"dataframe\">\n",
       "  <thead>\n",
       "    <tr style=\"text-align: right;\">\n",
       "      <th></th>\n",
       "      <th>image_path</th>\n",
       "      <th>Taca oli</th>\n",
       "      <th>Carrera</th>\n",
       "      <th>Agujero</th>\n",
       "      <th>Hilo fino horizontal2</th>\n",
       "      <th>Tensión horizontal</th>\n",
       "      <th>Barrado</th>\n",
       "      <th>Borrissol</th>\n",
       "      <th>Hilo fino horizontal</th>\n",
       "      <th>Punto escapado</th>\n",
       "    </tr>\n",
       "  </thead>\n",
       "  <tbody>\n",
       "    <tr>\n",
       "      <th>0</th>\n",
       "      <td>4aaf06a9-frame0-00-08.95.jpg</td>\n",
       "      <td>0</td>\n",
       "      <td>0</td>\n",
       "      <td>0</td>\n",
       "      <td>1</td>\n",
       "      <td>0</td>\n",
       "      <td>0</td>\n",
       "      <td>0</td>\n",
       "      <td>0</td>\n",
       "      <td>0</td>\n",
       "    </tr>\n",
       "    <tr>\n",
       "      <th>1</th>\n",
       "      <td>19c8888a-frame0-00-15.68.jpg</td>\n",
       "      <td>0</td>\n",
       "      <td>0</td>\n",
       "      <td>0</td>\n",
       "      <td>0</td>\n",
       "      <td>0</td>\n",
       "      <td>0</td>\n",
       "      <td>0</td>\n",
       "      <td>0</td>\n",
       "      <td>0</td>\n",
       "    </tr>\n",
       "    <tr>\n",
       "      <th>3</th>\n",
       "      <td>5e93a55a-frame0-00-12.03.jpg</td>\n",
       "      <td>0</td>\n",
       "      <td>0</td>\n",
       "      <td>0</td>\n",
       "      <td>1</td>\n",
       "      <td>0</td>\n",
       "      <td>0</td>\n",
       "      <td>0</td>\n",
       "      <td>0</td>\n",
       "      <td>0</td>\n",
       "    </tr>\n",
       "    <tr>\n",
       "      <th>8</th>\n",
       "      <td>47b8fa6d-frame0-00-20.79.jpg</td>\n",
       "      <td>0</td>\n",
       "      <td>0</td>\n",
       "      <td>0</td>\n",
       "      <td>0</td>\n",
       "      <td>0</td>\n",
       "      <td>0</td>\n",
       "      <td>0</td>\n",
       "      <td>0</td>\n",
       "      <td>0</td>\n",
       "    </tr>\n",
       "    <tr>\n",
       "      <th>10</th>\n",
       "      <td>6787b1aa-frame0-00-13.24.jpg</td>\n",
       "      <td>0</td>\n",
       "      <td>0</td>\n",
       "      <td>0</td>\n",
       "      <td>1</td>\n",
       "      <td>0</td>\n",
       "      <td>0</td>\n",
       "      <td>0</td>\n",
       "      <td>0</td>\n",
       "      <td>0</td>\n",
       "    </tr>\n",
       "    <tr>\n",
       "      <th>...</th>\n",
       "      <td>...</td>\n",
       "      <td>...</td>\n",
       "      <td>...</td>\n",
       "      <td>...</td>\n",
       "      <td>...</td>\n",
       "      <td>...</td>\n",
       "      <td>...</td>\n",
       "      <td>...</td>\n",
       "      <td>...</td>\n",
       "      <td>...</td>\n",
       "    </tr>\n",
       "    <tr>\n",
       "      <th>9447</th>\n",
       "      <td>465d9bce-frame0-00-32.28.jpg</td>\n",
       "      <td>0</td>\n",
       "      <td>0</td>\n",
       "      <td>0</td>\n",
       "      <td>0</td>\n",
       "      <td>0</td>\n",
       "      <td>0</td>\n",
       "      <td>0</td>\n",
       "      <td>0</td>\n",
       "      <td>0</td>\n",
       "    </tr>\n",
       "    <tr>\n",
       "      <th>9448</th>\n",
       "      <td>2efd8409-frame0-00-11.38.jpg</td>\n",
       "      <td>0</td>\n",
       "      <td>0</td>\n",
       "      <td>0</td>\n",
       "      <td>0</td>\n",
       "      <td>0</td>\n",
       "      <td>0</td>\n",
       "      <td>0</td>\n",
       "      <td>1</td>\n",
       "      <td>0</td>\n",
       "    </tr>\n",
       "    <tr>\n",
       "      <th>9449</th>\n",
       "      <td>6bc3fdda-frame0-00-01.45.jpg</td>\n",
       "      <td>0</td>\n",
       "      <td>0</td>\n",
       "      <td>0</td>\n",
       "      <td>0</td>\n",
       "      <td>0</td>\n",
       "      <td>0</td>\n",
       "      <td>0</td>\n",
       "      <td>0</td>\n",
       "      <td>0</td>\n",
       "    </tr>\n",
       "    <tr>\n",
       "      <th>9450</th>\n",
       "      <td>6efef5e7-frame0-00-09.95.jpg</td>\n",
       "      <td>0</td>\n",
       "      <td>0</td>\n",
       "      <td>0</td>\n",
       "      <td>0</td>\n",
       "      <td>0</td>\n",
       "      <td>0</td>\n",
       "      <td>0</td>\n",
       "      <td>0</td>\n",
       "      <td>0</td>\n",
       "    </tr>\n",
       "    <tr>\n",
       "      <th>9456</th>\n",
       "      <td>0724da11-frame0-00-05.67.jpg</td>\n",
       "      <td>0</td>\n",
       "      <td>0</td>\n",
       "      <td>0</td>\n",
       "      <td>0</td>\n",
       "      <td>0</td>\n",
       "      <td>0</td>\n",
       "      <td>0</td>\n",
       "      <td>1</td>\n",
       "      <td>0</td>\n",
       "    </tr>\n",
       "  </tbody>\n",
       "</table>\n",
       "<p>5282 rows × 10 columns</p>\n",
       "</div>"
      ],
      "text/plain": [
       "                        image_path  Taca oli  Carrera  Agujero  \\\n",
       "0     4aaf06a9-frame0-00-08.95.jpg         0        0        0   \n",
       "1     19c8888a-frame0-00-15.68.jpg         0        0        0   \n",
       "3     5e93a55a-frame0-00-12.03.jpg         0        0        0   \n",
       "8     47b8fa6d-frame0-00-20.79.jpg         0        0        0   \n",
       "10    6787b1aa-frame0-00-13.24.jpg         0        0        0   \n",
       "...                            ...       ...      ...      ...   \n",
       "9447  465d9bce-frame0-00-32.28.jpg         0        0        0   \n",
       "9448  2efd8409-frame0-00-11.38.jpg         0        0        0   \n",
       "9449  6bc3fdda-frame0-00-01.45.jpg         0        0        0   \n",
       "9450  6efef5e7-frame0-00-09.95.jpg         0        0        0   \n",
       "9456  0724da11-frame0-00-05.67.jpg         0        0        0   \n",
       "\n",
       "      Hilo fino horizontal2  Tensión horizontal  Barrado  Borrissol  \\\n",
       "0                         1                   0        0          0   \n",
       "1                         0                   0        0          0   \n",
       "3                         1                   0        0          0   \n",
       "8                         0                   0        0          0   \n",
       "10                        1                   0        0          0   \n",
       "...                     ...                 ...      ...        ...   \n",
       "9447                      0                   0        0          0   \n",
       "9448                      0                   0        0          0   \n",
       "9449                      0                   0        0          0   \n",
       "9450                      0                   0        0          0   \n",
       "9456                      0                   0        0          0   \n",
       "\n",
       "      Hilo fino horizontal  Punto escapado  \n",
       "0                        0               0  \n",
       "1                        0               0  \n",
       "3                        0               0  \n",
       "8                        0               0  \n",
       "10                       0               0  \n",
       "...                    ...             ...  \n",
       "9447                     0               0  \n",
       "9448                     1               0  \n",
       "9449                     0               0  \n",
       "9450                     0               0  \n",
       "9456                     1               0  \n",
       "\n",
       "[5282 rows x 10 columns]"
      ]
     },
     "execution_count": 130,
     "metadata": {},
     "output_type": "execute_result"
    }
   ],
   "source": [
    "df"
   ]
  },
  {
   "cell_type": "code",
   "execution_count": 131,
   "metadata": {},
   "outputs": [],
   "source": [
    "df.to_csv(\"verd_df_clean.csv\")"
   ]
  },
  {
   "cell_type": "markdown",
   "metadata": {},
   "source": [
    "---"
   ]
  },
  {
   "cell_type": "code",
   "execution_count": 132,
   "metadata": {},
   "outputs": [],
   "source": [
    "import tensorflow as tf\n",
    "import cv2\n",
    "from tensorflow import keras\n",
    "import numpy as np"
   ]
  },
  {
   "cell_type": "code",
   "execution_count": 240,
   "metadata": {},
   "outputs": [],
   "source": [
    "def create_dataset(df):\n",
    "    def apply():\n",
    "        for i, row in df.iterrows():\n",
    "            img = cv2.cvtColor(cv2.imread(\"DATASET/B/B/data/\"+row[\"image_path\"]), cv2.COLOR_BGR2GRAY)\n",
    "            img = cv2.resize(img, (224,224)) \n",
    "            yield (img.reshape((224,224,1)) ,np.array(row)[1:].reshape(1, 9))\n",
    "    return apply"
   ]
  },
  {
   "cell_type": "code",
   "execution_count": 242,
   "metadata": {},
   "outputs": [
    {
     "data": {
      "text/plain": [
       "(224, 224)"
      ]
     },
     "execution_count": 242,
     "metadata": {},
     "output_type": "execute_result"
    }
   ],
   "source": [
    "next(create_dataset(df)())[0].shape"
   ]
  },
  {
   "cell_type": "code",
   "execution_count": 254,
   "metadata": {},
   "outputs": [],
   "source": [
    "imgs = []\n",
    "labels = []\n",
    "for i, row in df.iterrows():\n",
    "    img = cv2.cvtColor(cv2.imread(\"DATASET/B/B/data/\"+row[\"image_path\"]), cv2.COLOR_BGR2GRAY)\n",
    "    img = cv2.resize(img, (224,224))\n",
    "    img = img/img.max()\n",
    "    labels.append(np.array(row)[1:])\n",
    "    imgs.append(img)\n",
    "    if(i > 500):\n",
    "        break\n",
    "\n",
    "imgs = np.array(imgs)\n",
    "labels = np.matrix(labels)"
   ]
  },
  {
   "cell_type": "code",
   "execution_count": 244,
   "metadata": {},
   "outputs": [
    {
     "name": "stdout",
     "output_type": "stream",
     "text": [
      "<class 'numpy.matrix'>\n",
      "(282, 9)\n",
      "[[0 0 0 ... 0 0 0]\n",
      " [0 0 0 ... 0 0 0]\n",
      " [0 0 0 ... 0 0 0]\n",
      " ...\n",
      " [0 0 0 ... 0 0 0]\n",
      " [0 0 0 ... 0 0 0]\n",
      " [0 0 0 ... 0 0 0]]\n"
     ]
    }
   ],
   "source": [
    "print(type(labels))\n",
    "print(labels.shape)\n",
    "print(labels)\n"
   ]
  },
  {
   "cell_type": "code",
   "execution_count": 245,
   "metadata": {},
   "outputs": [
    {
     "name": "stdout",
     "output_type": "stream",
     "text": [
      "<class 'numpy.ndarray'>\n",
      "(282, 224, 224)\n",
      "[[[0.24545455 0.22272727 0.24090909 ... 0.28181818 0.15909091 0.25      ]\n",
      "  [0.27272727 0.21818182 0.27272727 ... 0.28181818 0.15909091 0.25      ]\n",
      "  [0.21363636 0.11818182 0.31818182 ... 0.28636364 0.21363636 0.24090909]\n",
      "  ...\n",
      "  [0.34090909 0.2        0.18181818 ... 0.13181818 0.16818182 0.10454545]\n",
      "  [0.22272727 0.16818182 0.14545455 ... 0.08636364 0.18636364 0.06363636]\n",
      "  [0.27727273 0.21363636 0.15909091 ... 0.07272727 0.21818182 0.05      ]]\n",
      "\n",
      " [[0.22395833 0.16145833 0.22916667 ... 0.22395833 0.265625   0.22916667]\n",
      "  [0.17708333 0.13020833 0.19270833 ... 0.25       0.265625   0.21875   ]\n",
      "  [0.19270833 0.16145833 0.19270833 ... 0.34895833 0.19791667 0.28645833]\n",
      "  ...\n",
      "  [0.30729167 0.15625    0.20833333 ... 0.109375   0.203125   0.        ]\n",
      "  [0.23958333 0.13541667 0.13541667 ... 0.15104167 0.22916667 0.02604167]\n",
      "  [0.28125    0.26041667 0.25       ... 0.203125   0.21354167 0.03645833]]\n",
      "\n",
      " [[0.31050228 0.21461187 0.2283105  ... 0.21461187 0.23744292 0.14611872]\n",
      "  [0.26027397 0.20547945 0.2283105  ... 0.21461187 0.23744292 0.14611872]\n",
      "  [0.21917808 0.30593607 0.2283105  ... 0.21004566 0.24200913 0.16894977]\n",
      "  ...\n",
      "  [0.39269406 0.33333333 0.3196347  ... 0.18721461 0.08675799 0.16438356]\n",
      "  [0.21004566 0.11415525 0.26940639 ... 0.22374429 0.0913242  0.21004566]\n",
      "  [0.28310502 0.26940639 0.30136986 ... 0.26484018 0.10045662 0.22374429]]\n",
      "\n",
      " ...\n",
      "\n",
      " [[0.19402985 0.4079602  0.21890547 ... 0.26368159 0.29353234 0.11442786]\n",
      "  [0.25870647 0.36318408 0.09950249 ... 0.26368159 0.32338308 0.21890547]\n",
      "  [0.26865672 0.19900498 0.12935323 ... 0.15920398 0.45771144 0.23880597]\n",
      "  ...\n",
      "  [0.32835821 0.32338308 0.32338308 ... 0.09452736 0.17910448 0.2238806 ]\n",
      "  [0.29353234 0.27860697 0.3681592  ... 0.12935323 0.21890547 0.21393035]\n",
      "  [0.08955224 0.13930348 0.17412935 ... 0.09452736 0.26368159 0.23383085]]\n",
      "\n",
      " [[0.20465116 0.32093023 0.21395349 ... 0.3255814  0.07906977 0.17209302]\n",
      "  [0.24186047 0.2744186  0.20930233 ... 0.32093023 0.15348837 0.17209302]\n",
      "  [0.16744186 0.2372093  0.23255814 ... 0.2744186  0.2        0.21395349]\n",
      "  ...\n",
      "  [0.20465116 0.14418605 0.16744186 ... 0.29302326 0.11162791 0.1627907 ]\n",
      "  [0.19069767 0.18139535 0.18604651 ... 0.26976744 0.13488372 0.1255814 ]\n",
      "  [0.2        0.18604651 0.27906977 ... 0.21395349 0.10697674 0.09767442]]\n",
      "\n",
      " [[0.23045267 0.16872428 0.218107   ... 0.16460905 0.18106996 0.20987654]\n",
      "  [0.21399177 0.24691358 0.29218107 ... 0.16460905 0.18930041 0.23868313]\n",
      "  [0.16872428 0.14403292 0.39506173 ... 0.16460905 0.22633745 0.22222222]\n",
      "  ...\n",
      "  [0.20576132 0.24691358 0.3127572  ... 0.17283951 0.13168724 0.11522634]\n",
      "  [0.16872428 0.20164609 0.23868313 ... 0.14814815 0.15226337 0.19341564]\n",
      "  [0.20164609 0.26337449 0.2345679  ... 0.20576132 0.20987654 0.19753086]]]\n"
     ]
    }
   ],
   "source": [
    "print(type(imgs))\n",
    "print(imgs.shape)\n",
    "print(imgs)"
   ]
  },
  {
   "cell_type": "code",
   "execution_count": 259,
   "metadata": {},
   "outputs": [],
   "source": [
    "tf_df = tf.data.Dataset.from_generator(create_dataset(df),output_signature=(\n",
    "         tf.TensorSpec(shape=(224,224), dtype=tf.float32),\n",
    "         tf.RaggedTensorSpec(shape=(9,), dtype=tf.float32)))"
   ]
  },
  {
   "cell_type": "code",
   "execution_count": 267,
   "metadata": {},
   "outputs": [
    {
     "data": {
      "image/png": "[encoded data removed]",
      "text/plain": [
       "<IPython.core.display.Image object>"
      ]
     },
     "execution_count": 267,
     "metadata": {},
     "output_type": "execute_result"
    }
   ],
   "source": [
    "model = keras.Sequential([\n",
    "    keras.layers.Conv2D(64, 3, activation='relu', padding=\"same\", input_shape=(224, 224,1)),\n",
    "    keras.layers.Conv2D(32, 3, activation='relu',padding=\"same\"),\n",
    "    keras.layers.Flatten(),\n",
    "    keras.layers.Dense(9, activation='softmax')\n",
    "])\n",
    " \n",
    "# Compiling the model\n",
    "model.compile(optimizer='adam',\n",
    "              loss=tf.keras.losses.Poisson(),\n",
    "              metrics=['accuracy'])\n",
    "\n",
    "# Fitting the model with data\n",
    "tf.keras.utils.plot_model(\n",
    "    model,\n",
    "    to_file=\"model.png\",\n",
    "    show_shapes=True,\n",
    "    show_dtype=True,\n",
    "    show_layer_names=True,\n",
    "    rankdir=\"TB\",\n",
    "    expand_nested=False,\n",
    "    dpi=96,\n",
    "    layer_range=None,\n",
    "    show_layer_activations=False,\n",
    ")"
   ]
  },
  {
   "cell_type": "code",
   "execution_count": 251,
   "metadata": {},
   "outputs": [
    {
     "name": "stdout",
     "output_type": "stream",
     "text": [
      "(224, 224)\n"
     ]
    },
    {
     "data": {
      "text/plain": [
       "<tf.Tensor: shape=(1, 9), dtype=float32, numpy=\n",
       "array([[6.3179158e-15, 4.2350334e-01, 2.5104582e-02, 1.6212476e-04,\n",
       "        5.6524621e-03, 6.1819548e-05, 5.4550725e-01, 8.9432940e-12,\n",
       "        8.4249023e-06]], dtype=float32)>"
      ]
     },
     "execution_count": 251,
     "metadata": {},
     "output_type": "execute_result"
    }
   ],
   "source": [
    "img, label = next(create_dataset(df)())\n",
    "print(img.shape)\n",
    "model(img.reshape(1, 224, 224))"
   ]
  },
  {
   "cell_type": "code",
   "execution_count": 260,
   "metadata": {},
   "outputs": [
    {
     "name": "stdout",
     "output_type": "stream",
     "text": [
      "Epoch 1/5\n",
      "WARNING:tensorflow:Model was constructed with shape (None, 224, 224, 1) for input KerasTensor(type_spec=TensorSpec(shape=(None, 224, 224, 1), dtype=tf.float32, name='conv2d_100_input'), name='conv2d_100_input', description=\"created by layer 'conv2d_100_input'\"), but it was called on an input with incompatible shape (224, 224).\n"
     ]
    },
    {
     "ename": "ValueError",
     "evalue": "in user code:\n\n    File \"/Users/josepsmachine/miniforge3/envs/chaos/lib/python3.10/site-packages/keras/engine/training.py\", line 1160, in train_function  *\n        return step_function(self, iterator)\n    File \"/Users/josepsmachine/miniforge3/envs/chaos/lib/python3.10/site-packages/keras/engine/training.py\", line 1146, in step_function  **\n        outputs = model.distribute_strategy.run(run_step, args=(data,))\n    File \"/Users/josepsmachine/miniforge3/envs/chaos/lib/python3.10/site-packages/keras/engine/training.py\", line 1135, in run_step  **\n        outputs = model.train_step(data)\n    File \"/Users/josepsmachine/miniforge3/envs/chaos/lib/python3.10/site-packages/keras/engine/training.py\", line 993, in train_step\n        y_pred = self(x, training=True)\n    File \"/Users/josepsmachine/miniforge3/envs/chaos/lib/python3.10/site-packages/keras/utils/traceback_utils.py\", line 70, in error_handler\n        raise e.with_traceback(filtered_tb) from None\n    File \"/Users/josepsmachine/miniforge3/envs/chaos/lib/python3.10/site-packages/keras/engine/input_spec.py\", line 250, in assert_input_compatibility\n        raise ValueError(\n\n    ValueError: Exception encountered when calling layer \"sequential_50\" \"                 f\"(type Sequential).\n    \n    Input 0 of layer \"conv2d_100\" is incompatible with the layer: expected min_ndim=4, found ndim=2. Full shape received: (224, 224)\n    \n    Call arguments received by layer \"sequential_50\" \"                 f\"(type Sequential):\n      • inputs=tf.Tensor(shape=(224, 224), dtype=float32)\n      • training=True\n      • mask=None\n",
     "output_type": "error",
     "traceback": [
      "\u001b[0;31m---------------------------------------------------------------------------\u001b[0m",
      "\u001b[0;31mValueError\u001b[0m                                Traceback (most recent call last)",
      "Cell \u001b[0;32mIn [260], line 1\u001b[0m\n\u001b[0;32m----> 1\u001b[0m model\u001b[38;5;241m.\u001b[39mfit(tf_df, epochs\u001b[38;5;241m=\u001b[39m\u001b[38;5;241m5\u001b[39m,batch_size\u001b[38;5;241m=\u001b[39m\u001b[38;5;241m2\u001b[39m)\n",
      "File \u001b[0;32m~/miniforge3/envs/chaos/lib/python3.10/site-packages/keras/utils/traceback_utils.py:70\u001b[0m, in \u001b[0;36mfilter_traceback.<locals>.error_handler\u001b[0;34m(*args, **kwargs)\u001b[0m\n\u001b[1;32m     67\u001b[0m     filtered_tb \u001b[39m=\u001b[39m _process_traceback_frames(e\u001b[39m.\u001b[39m__traceback__)\n\u001b[1;32m     68\u001b[0m     \u001b[39m# To get the full stack trace, call:\u001b[39;00m\n\u001b[1;32m     69\u001b[0m     \u001b[39m# `tf.debugging.disable_traceback_filtering()`\u001b[39;00m\n\u001b[0;32m---> 70\u001b[0m     \u001b[39mraise\u001b[39;00m e\u001b[39m.\u001b[39mwith_traceback(filtered_tb) \u001b[39mfrom\u001b[39;00m \u001b[39mNone\u001b[39m\n\u001b[1;32m     71\u001b[0m \u001b[39mfinally\u001b[39;00m:\n\u001b[1;32m     72\u001b[0m     \u001b[39mdel\u001b[39;00m filtered_tb\n",
      "File \u001b[0;32m/var/folders/j8/64lnvrmj50q5dv_5dj_ztbz40000gn/T/__autograph_generated_filed9afhu9c.py:15\u001b[0m, in \u001b[0;36mouter_factory.<locals>.inner_factory.<locals>.tf__train_function\u001b[0;34m(iterator)\u001b[0m\n\u001b[1;32m     13\u001b[0m \u001b[39mtry\u001b[39;00m:\n\u001b[1;32m     14\u001b[0m     do_return \u001b[39m=\u001b[39m \u001b[39mTrue\u001b[39;00m\n\u001b[0;32m---> 15\u001b[0m     retval_ \u001b[39m=\u001b[39m ag__\u001b[39m.\u001b[39mconverted_call(ag__\u001b[39m.\u001b[39mld(step_function), (ag__\u001b[39m.\u001b[39mld(\u001b[39mself\u001b[39m), ag__\u001b[39m.\u001b[39mld(iterator)), \u001b[39mNone\u001b[39;00m, fscope)\n\u001b[1;32m     16\u001b[0m \u001b[39mexcept\u001b[39;00m:\n\u001b[1;32m     17\u001b[0m     do_return \u001b[39m=\u001b[39m \u001b[39mFalse\u001b[39;00m\n",
      "\u001b[0;31mValueError\u001b[0m: in user code:\n\n    File \"/Users/josepsmachine/miniforge3/envs/chaos/lib/python3.10/site-packages/keras/engine/training.py\", line 1160, in train_function  *\n        return step_function(self, iterator)\n    File \"/Users/josepsmachine/miniforge3/envs/chaos/lib/python3.10/site-packages/keras/engine/training.py\", line 1146, in step_function  **\n        outputs = model.distribute_strategy.run(run_step, args=(data,))\n    File \"/Users/josepsmachine/miniforge3/envs/chaos/lib/python3.10/site-packages/keras/engine/training.py\", line 1135, in run_step  **\n        outputs = model.train_step(data)\n    File \"/Users/josepsmachine/miniforge3/envs/chaos/lib/python3.10/site-packages/keras/engine/training.py\", line 993, in train_step\n        y_pred = self(x, training=True)\n    File \"/Users/josepsmachine/miniforge3/envs/chaos/lib/python3.10/site-packages/keras/utils/traceback_utils.py\", line 70, in error_handler\n        raise e.with_traceback(filtered_tb) from None\n    File \"/Users/josepsmachine/miniforge3/envs/chaos/lib/python3.10/site-packages/keras/engine/input_spec.py\", line 250, in assert_input_compatibility\n        raise ValueError(\n\n    ValueError: Exception encountered when calling layer \"sequential_50\" \"                 f\"(type Sequential).\n    \n    Input 0 of layer \"conv2d_100\" is incompatible with the layer: expected min_ndim=4, found ndim=2. Full shape received: (224, 224)\n    \n    Call arguments received by layer \"sequential_50\" \"                 f\"(type Sequential):\n      • inputs=tf.Tensor(shape=(224, 224), dtype=float32)\n      • training=True\n      • mask=None\n"
     ]
    }
   ],
   "source": [
    "model.fit(, epochs=5,batch_size=2)"
   ]
  },
  {
   "cell_type": "code",
   "execution_count": null,
   "metadata": {},
   "outputs": [
    {
     "name": "stdout",
     "output_type": "stream",
     "text": [
      "Found 0 files belonging to 0 classes.\n"
     ]
    },
    {
     "ename": "ValueError",
     "evalue": "No images found in directory DATASET/B/B/data. Allowed formats: ('.bmp', '.gif', '.jpeg', '.jpg', '.png')",
     "output_type": "error",
     "traceback": [
      "\u001b[0;31m---------------------------------------------------------------------------\u001b[0m",
      "\u001b[0;31mValueError\u001b[0m                                Traceback (most recent call last)",
      "Cell \u001b[0;32mIn [51], line 1\u001b[0m\n\u001b[0;32m----> 1\u001b[0m data \u001b[38;5;241m=\u001b[39m tf\u001b[38;5;241m.\u001b[39mkeras\u001b[38;5;241m.\u001b[39mutils\u001b[38;5;241m.\u001b[39mimage_dataset_from_directory(\u001b[38;5;124m'\u001b[39m\u001b[38;5;124mDATASET/B/B/data\u001b[39m\u001b[38;5;124m'\u001b[39m)\n",
      "File \u001b[0;32m~/miniforge3/envs/chaos/lib/python3.10/site-packages/keras/utils/image_dataset.py:294\u001b[0m, in \u001b[0;36mimage_dataset_from_directory\u001b[0;34m(directory, labels, label_mode, class_names, color_mode, batch_size, image_size, shuffle, seed, validation_split, subset, interpolation, follow_links, crop_to_aspect_ratio, **kwargs)\u001b[0m\n\u001b[1;32m    290\u001b[0m image_paths, labels \u001b[39m=\u001b[39m dataset_utils\u001b[39m.\u001b[39mget_training_or_validation_split(\n\u001b[1;32m    291\u001b[0m     image_paths, labels, validation_split, subset\n\u001b[1;32m    292\u001b[0m )\n\u001b[1;32m    293\u001b[0m \u001b[39mif\u001b[39;00m \u001b[39mnot\u001b[39;00m image_paths:\n\u001b[0;32m--> 294\u001b[0m     \u001b[39mraise\u001b[39;00m \u001b[39mValueError\u001b[39;00m(\n\u001b[1;32m    295\u001b[0m         \u001b[39mf\u001b[39m\u001b[39m\"\u001b[39m\u001b[39mNo images found in directory \u001b[39m\u001b[39m{\u001b[39;00mdirectory\u001b[39m}\u001b[39;00m\u001b[39m. \u001b[39m\u001b[39m\"\u001b[39m\n\u001b[1;32m    296\u001b[0m         \u001b[39mf\u001b[39m\u001b[39m\"\u001b[39m\u001b[39mAllowed formats: \u001b[39m\u001b[39m{\u001b[39;00mALLOWLIST_FORMATS\u001b[39m}\u001b[39;00m\u001b[39m\"\u001b[39m\n\u001b[1;32m    297\u001b[0m     )\n\u001b[1;32m    299\u001b[0m dataset \u001b[39m=\u001b[39m paths_and_labels_to_dataset(\n\u001b[1;32m    300\u001b[0m     image_paths\u001b[39m=\u001b[39mimage_paths,\n\u001b[1;32m    301\u001b[0m     image_size\u001b[39m=\u001b[39mimage_size,\n\u001b[0;32m   (...)\u001b[0m\n\u001b[1;32m    307\u001b[0m     crop_to_aspect_ratio\u001b[39m=\u001b[39mcrop_to_aspect_ratio,\n\u001b[1;32m    308\u001b[0m )\n\u001b[1;32m    309\u001b[0m dataset \u001b[39m=\u001b[39m dataset\u001b[39m.\u001b[39mprefetch(tf\u001b[39m.\u001b[39mdata\u001b[39m.\u001b[39mAUTOTUNE)\n",
      "\u001b[0;31mValueError\u001b[0m: No images found in directory DATASET/B/B/data. Allowed formats: ('.bmp', '.gif', '.jpeg', '.jpg', '.png')"
     ]
    }
   ],
   "source": [
    "data = tf.keras.utils.image_dataset_from_directory('DATASET/B/B/data')"
   ]
  }
 ],
 "metadata": {
  "kernelspec": {
   "display_name": "Python 3.10.6 ('chaos')",
   "language": "python",
   "name": "python3"
  },
  "language_info": {
   "codemirror_mode": {
    "name": "ipython",
    "version": 3
   },
   "file_extension": ".py",
   "mimetype": "text/x-python",
   "name": "python",
   "nbconvert_exporter": "python",
   "pygments_lexer": "ipython3",
   "version": "3.10.6"
  },
  "orig_nbformat": 4,
  "vscode": {
   "interpreter": {
    "hash": "c7ae596a0e351a64bdee8401d4598b089ee21c4ae0cc6b869fec54b3f2f67ab8"
   }
  }
 },
 "nbformat": 4,
 "nbformat_minor": 2
}
