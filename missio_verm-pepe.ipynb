{
 "cells": [
  {
   "cell_type": "code",
   "execution_count": 5,
   "metadata": {},
   "outputs": [
    {
     "data": {
      "text/html": [
       "<div>\n",
       "<style scoped>\n",
       "    .dataframe tbody tr th:only-of-type {\n",
       "        vertical-align: middle;\n",
       "    }\n",
       "\n",
       "    .dataframe tbody tr th {\n",
       "        vertical-align: top;\n",
       "    }\n",
       "\n",
       "    .dataframe thead th {\n",
       "        text-align: right;\n",
       "    }\n",
       "</style>\n",
       "<table border=\"1\" class=\"dataframe\">\n",
       "  <thead>\n",
       "    <tr style=\"text-align: right;\">\n",
       "      <th></th>\n",
       "      <th>Unnamed: 0</th>\n",
       "      <th>c</th>\n",
       "      <th>r</th>\n",
       "      <th>e</th>\n",
       "      <th>name</th>\n",
       "      <th>path</th>\n",
       "      <th>text</th>\n",
       "    </tr>\n",
       "  </thead>\n",
       "  <tbody>\n",
       "    <tr>\n",
       "      <th>0</th>\n",
       "      <td>0</td>\n",
       "      <td>c3</td>\n",
       "      <td>r1</td>\n",
       "      <td>e3</td>\n",
       "      <td>c3r1e3n12</td>\n",
       "      <td>badata/cd1/data/c3/r1/images/e3/c3r1e3n12.tif</td>\n",
       "      <td>Pequeño defecto de hilo en la mitad inferior d...</td>\n",
       "    </tr>\n",
       "    <tr>\n",
       "      <th>1</th>\n",
       "      <td>1</td>\n",
       "      <td>c3</td>\n",
       "      <td>r1</td>\n",
       "      <td>e3</td>\n",
       "      <td>c3r1e3n28</td>\n",
       "      <td>badata/cd1/data/c3/r1/images/e3/c3r1e3n28.tif</td>\n",
       "      <td>Gran defecto de hilo en la imagen.</td>\n",
       "    </tr>\n",
       "    <tr>\n",
       "      <th>2</th>\n",
       "      <td>2</td>\n",
       "      <td>c3</td>\n",
       "      <td>r1</td>\n",
       "      <td>e3</td>\n",
       "      <td>c3r1e3n25</td>\n",
       "      <td>badata/cd1/data/c3/r1/images/e3/c3r1e3n25.tif</td>\n",
       "      <td>Gran defecto de hilo en la imagen.</td>\n",
       "    </tr>\n",
       "    <tr>\n",
       "      <th>3</th>\n",
       "      <td>3</td>\n",
       "      <td>c3</td>\n",
       "      <td>r1</td>\n",
       "      <td>e3</td>\n",
       "      <td>c3r1e3n11</td>\n",
       "      <td>badata/cd1/data/c3/r1/images/e3/c3r1e3n11.tif</td>\n",
       "      <td>Pequeño defecto de hilo en la mitad superior d...</td>\n",
       "    </tr>\n",
       "    <tr>\n",
       "      <th>4</th>\n",
       "      <td>4</td>\n",
       "      <td>c3</td>\n",
       "      <td>r1</td>\n",
       "      <td>e3</td>\n",
       "      <td>c3r1e3n47</td>\n",
       "      <td>badata/cd1/data/c3/r1/images/e3/c3r1e3n47.tif</td>\n",
       "      <td>Gran defecto de hilo en la imagen.</td>\n",
       "    </tr>\n",
       "  </tbody>\n",
       "</table>\n",
       "</div>"
      ],
      "text/plain": [
       "   Unnamed: 0   c   r   e       name  \\\n",
       "0           0  c3  r1  e3  c3r1e3n12   \n",
       "1           1  c3  r1  e3  c3r1e3n28   \n",
       "2           2  c3  r1  e3  c3r1e3n25   \n",
       "3           3  c3  r1  e3  c3r1e3n11   \n",
       "4           4  c3  r1  e3  c3r1e3n47   \n",
       "\n",
       "                                            path  \\\n",
       "0  badata/cd1/data/c3/r1/images/e3/c3r1e3n12.tif   \n",
       "1  badata/cd1/data/c3/r1/images/e3/c3r1e3n28.tif   \n",
       "2  badata/cd1/data/c3/r1/images/e3/c3r1e3n25.tif   \n",
       "3  badata/cd1/data/c3/r1/images/e3/c3r1e3n11.tif   \n",
       "4  badata/cd1/data/c3/r1/images/e3/c3r1e3n47.tif   \n",
       "\n",
       "                                                text  \n",
       "0  Pequeño defecto de hilo en la mitad inferior d...  \n",
       "1                 Gran defecto de hilo en la imagen.  \n",
       "2                 Gran defecto de hilo en la imagen.  \n",
       "3  Pequeño defecto de hilo en la mitad superior d...  \n",
       "4                 Gran defecto de hilo en la imagen.  "
      ]
     },
     "execution_count": 5,
     "metadata": {},
     "output_type": "execute_result"
    }
   ],
   "source": [
    "import pandas as pd\n",
    "df = pd.read_csv(\"DATASET/A1/img_tag.csv\")\n",
    "df.head()"
   ]
  },
  {
   "cell_type": "code",
   "execution_count": null,
   "metadata": {},
   "outputs": [],
   "source": [
    "for row in text:\n",
    "    "
   ]
  }
 ],
 "metadata": {
  "kernelspec": {
   "display_name": "Python 3.9.13 64-bit (microsoft store)",
   "language": "python",
   "name": "python3"
  },
  "language_info": {
   "codemirror_mode": {
    "name": "ipython",
    "version": 3
   },
   "file_extension": ".py",
   "mimetype": "text/x-python",
   "name": "python",
   "nbconvert_exporter": "python",
   "pygments_lexer": "ipython3",
   "version": "3.9.13"
  },
  "orig_nbformat": 4,
  "vscode": {
   "interpreter": {
    "hash": "0d1831cf2689b5dba254f99187bb279cf01a82452f16d45465929cbbf5686504"
   }
  }
 },
 "nbformat": 4,
 "nbformat_minor": 2
}
