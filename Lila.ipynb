{
 "cells": [
  {
   "cell_type": "markdown",
   "metadata": {},
   "source": [
    "Volem que implementeu un model o algoritme que permeti classificar els patrons detectats de la missió groga ️☀️ en el dataset A1. Ens agradaria que mostressiu alguna gràfica de l'entrenament del model (en cas de fer ML) o mètriques qualitatives (accuracy, recall, f1...) i quantitatives (matrius de confusió, ROC curve...)."
   ]
  }
 ],
 "metadata": {
  "language_info": {
   "name": "python"
  },
  "orig_nbformat": 4
 },
 "nbformat": 4,
 "nbformat_minor": 2
}
